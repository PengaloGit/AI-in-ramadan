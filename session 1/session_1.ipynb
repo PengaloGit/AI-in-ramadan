{
  "nbformat": 4,
  "nbformat_minor": 0,
  "metadata": {
    "colab": {
      "provenance": [],
      "gpuType": "V28"
    },
    "kernelspec": {
      "name": "python3",
      "display_name": "Python 3"
    },
    "language_info": {
      "name": "python"
    },
    "accelerator": "TPU"
  },
  "cells": [
    {
      "cell_type": "code",
      "source": [
        "import numpy as np\n",
        "import matplotlib.pyplot as plt\n",
        "from sklearn.datasets import load_breast_cancer\n",
        "import numpy as np\n",
        "import pandas as pd\n",
        "from sklearn.model_selection import train_test_split\n",
        "from sklearn.svm import SVC\n",
        "from sklearn.naive_bayes import MultinomialNB\n",
        "from sklearn.neighbors import KNeighborsClassifier\n",
        "from sklearn.metrics import classification_report, accuracy_score, confusion_matrix\n"
      ],
      "metadata": {
        "id": "TmLvZumv_rD_"
      },
      "execution_count": null,
      "outputs": []
    },
    {
      "cell_type": "markdown",
      "source": [
        "# Cancer dataset example"
      ],
      "metadata": {
        "id": "TMygWD9GCpO3"
      }
    },
    {
      "cell_type": "markdown",
      "source": [
        "## Data show case"
      ],
      "metadata": {
        "id": "MKFw0PewpbgY"
      }
    },
    {
      "cell_type": "code",
      "source": [
        "data = load_breast_cancer()"
      ],
      "metadata": {
        "id": "HZ-peMsc8mA0"
      },
      "execution_count": null,
      "outputs": []
    },
    {
      "cell_type": "code",
      "source": [
        "df = pd.DataFrame(data.data, columns=data.feature_names)\n",
        "df['target'] = data.target\n",
        "df['name'] = data.target_names[df['target']]\n",
        "df.head()"
      ],
      "metadata": {
        "collapsed": true,
        "id": "W5DGEFtPBe4u"
      },
      "execution_count": null,
      "outputs": []
    },
    {
      "cell_type": "code",
      "source": [
        "plt.figure(figsize=(10, 8))\n",
        "colors = {0: 'red', 1: 'blue'}\n",
        "\n",
        "for target in df['target'].unique():\n",
        "    subset = df[df['target'] == target]\n",
        "    plt.scatter(subset['mean radius'], subset['mean texture'],\n",
        "                label=data.target_names[target],\n",
        "                color=colors[target],\n",
        "                alpha=0.7)\n",
        "\n",
        "plt.xlabel('Mean Radius')\n",
        "plt.ylabel('Mean Texture')\n",
        "plt.title('Cancer Data')\n",
        "plt.legend(loc='best')\n",
        "plt.show()"
      ],
      "metadata": {
        "id": "hXS0rKdkBIIb"
      },
      "execution_count": null,
      "outputs": []
    },
    {
      "cell_type": "code",
      "source": [
        "X = data.data[:, :2]\n",
        "y = data.target\n",
        "\n",
        "X_train, X_test, y_train, y_test = train_test_split(X, y, test_size=0.3, random_state=42)"
      ],
      "metadata": {
        "id": "vbgKZV7BB1by"
      },
      "execution_count": null,
      "outputs": []
    },
    {
      "cell_type": "markdown",
      "source": [
        "## SVM"
      ],
      "metadata": {
        "id": "83NPdyy1l8go"
      }
    },
    {
      "cell_type": "code",
      "source": [
        "svm_clf = SVC(kernel='linear', probability=True, random_state=42)\n",
        "\n",
        "svm_clf.fit(X_train, y_train)"
      ],
      "metadata": {
        "id": "Ewrs-MwBAATU"
      },
      "execution_count": null,
      "outputs": []
    },
    {
      "cell_type": "code",
      "source": [
        "y_pred = svm_clf.predict(X_test)\n",
        "accuracy = accuracy_score(y_test, y_pred)\n",
        "\n",
        "#count = 0\n",
        "#for line i in data count += y_pred[i] == y_test[i] ? 1 : 0\n",
        "#acc = count/total\n",
        "print(\"Accuracy: {:.2f}%\".format(accuracy*100))\n",
        "print(\"Classification Report:\\n\", classification_report(y_test, y_pred, target_names=data.target_names))\n",
        "print(\"Confusion Matrix:\\n\", confusion_matrix(y_test, y_pred))"
      ],
      "metadata": {
        "id": "9UmkhUIt4z_M"
      },
      "execution_count": null,
      "outputs": []
    },
    {
      "cell_type": "code",
      "source": [
        "#boundaries\n",
        "margin = 0\n",
        "x_min, x_max = X[:, 0].min() - margin, X[:, 0].max() + margin\n",
        "y_min, y_max = X[:, 1].min() - margin, X[:, 1].max() + margin\n",
        "\n",
        "#Coloring the background\n",
        "xx, yy = np.meshgrid(np.arange(x_min, x_max, 0.02),\n",
        "                     np.arange(y_min, y_max, 0.02))\n",
        "grid_points = np.c_[xx.ravel(), yy.ravel()]\n",
        "\n",
        "Z = svm_clf.predict(grid_points)\n",
        "Z = Z.reshape(xx.shape)\n",
        "\n",
        "plt.figure(figsize=(10, 8))\n",
        "plt.contourf(xx, yy, Z, alpha=0.3, cmap=plt.cm.coolwarm)\n",
        "\n",
        "# Plot the data points for the two classes\n",
        "plt.scatter(X[y == 0, 0], X[y == 0, 1], color='red', label=data.target_names[0], edgecolor='k', s=50)\n",
        "plt.scatter(X[y == 1, 0], X[y == 1, 1], color='blue', label=data.target_names[1], edgecolor='k', s=50)\n",
        "\n",
        "\n",
        "\n",
        "plt.xlim(x_min, x_max)\n",
        "plt.ylim(y_min, y_max)\n",
        "plt.xlabel(\"Mean Radius\")\n",
        "plt.ylabel(\"Mean Texture\")\n",
        "plt.title(\"SVM Decision Boundary with Colored Zones on Cancer Data\")\n",
        "plt.legend()\n",
        "plt.show()\n"
      ],
      "metadata": {
        "id": "7wT3iggb51If"
      },
      "execution_count": null,
      "outputs": []
    },
    {
      "cell_type": "markdown",
      "source": [
        "## Naive Bayes"
      ],
      "metadata": {
        "id": "avcUrbPzmCuj"
      }
    },
    {
      "cell_type": "code",
      "source": [
        "nb_clf = MultinomialNB()\n",
        "\n",
        "nb_clf.fit(X_train, y_train)"
      ],
      "metadata": {
        "id": "k3T6nBbomG4L"
      },
      "execution_count": null,
      "outputs": []
    },
    {
      "cell_type": "code",
      "source": [
        "y_pred = nb_clf.predict(X_test)\n",
        "accuracy = accuracy_score(y_test, y_pred)\n",
        "\n",
        "print(\"Accuracy: {:.2f}%\".format(accuracy*100))\n",
        "print(\"Classification Report:\\n\", classification_report(y_test, y_pred, target_names=data.target_names))\n",
        "print(\"Confusion Matrix:\\n\", confusion_matrix(y_test, y_pred))"
      ],
      "metadata": {
        "id": "yGMdO7H6nRwp"
      },
      "execution_count": null,
      "outputs": []
    },
    {
      "cell_type": "code",
      "source": [
        "#boundaries\n",
        "margin = 0.5\n",
        "x_min, x_max = X[:, 0].min() - margin, X[:, 0].max() + margin\n",
        "y_min, y_max = X[:, 1].min() - margin, X[:, 1].max() + margin\n",
        "\n",
        "#Coloring the background\n",
        "xx, yy = np.meshgrid(np.arange(x_min, x_max, 0.02),\n",
        "                     np.arange(y_min, y_max, 0.02))\n",
        "grid_points = np.c_[xx.ravel(), yy.ravel()]\n",
        "\n",
        "Z = nb_clf.predict(grid_points)\n",
        "Z = Z.reshape(xx.shape)\n",
        "\n",
        "plt.figure(figsize=(10, 8))\n",
        "plt.contourf(xx, yy, Z, alpha=0.3, cmap=plt.cm.coolwarm)\n",
        "\n",
        "# Plot the data points for the two classes\n",
        "plt.scatter(X[y == 0, 0], X[y == 0, 1], color='red', label=data.target_names[0], edgecolor='k', s=50)\n",
        "plt.scatter(X[y == 1, 0], X[y == 1, 1], color='blue', label=data.target_names[1], edgecolor='k', s=50)\n",
        "\n",
        "\n",
        "\n",
        "plt.xlim(x_min, x_max)\n",
        "plt.ylim(y_min, y_max)\n",
        "plt.xlabel(\"Mean Radius\")\n",
        "plt.ylabel(\"Mean Texture\")\n",
        "plt.title(\"NB Decision Boundary with Colored Zones on Cancer Data\")\n",
        "plt.legend()\n",
        "plt.show()"
      ],
      "metadata": {
        "id": "Nw39VT_nnRCR"
      },
      "execution_count": null,
      "outputs": []
    },
    {
      "cell_type": "markdown",
      "source": [
        "## KNN"
      ],
      "metadata": {
        "id": "RCQ3shnyn7gD"
      }
    },
    {
      "cell_type": "code",
      "source": [
        "knn = KNeighborsClassifier(n_neighbors=3)\n",
        "\n",
        "knn.fit(X_train, y_train)"
      ],
      "metadata": {
        "id": "2FZo4TRkoMbg"
      },
      "execution_count": null,
      "outputs": []
    },
    {
      "cell_type": "code",
      "source": [
        "y_pred = knn.predict(X_test)\n",
        "accuracy = accuracy_score(y_test, y_pred)\n",
        "\n",
        "print(\"Accuracy: {:.2f}%\".format(accuracy*100))\n",
        "print(\"Classification Report:\\n\", classification_report(y_test, y_pred, target_names=data.target_names))\n",
        "print(\"Confusion Matrix:\\n\", confusion_matrix(y_test, y_pred))"
      ],
      "metadata": {
        "id": "Pv-WL1tlou30"
      },
      "execution_count": null,
      "outputs": []
    },
    {
      "cell_type": "code",
      "source": [
        "#boundaries\n",
        "margin = 0.5\n",
        "x_min, x_max = X[:, 0].min() - margin, X[:, 0].max() + margin\n",
        "y_min, y_max = X[:, 1].min() - margin, X[:, 1].max() + margin\n",
        "\n",
        "#Coloring the background\n",
        "xx, yy = np.meshgrid(np.arange(x_min, x_max, 0.02),\n",
        "                     np.arange(y_min, y_max, 0.02))\n",
        "grid_points = np.c_[xx.ravel(), yy.ravel()]\n",
        "\n",
        "Z = knn.predict(grid_points)\n",
        "Z = Z.reshape(xx.shape)\n",
        "\n",
        "plt.figure(figsize=(10, 8))\n",
        "plt.contourf(xx, yy, Z, alpha=0.3, cmap=plt.cm.coolwarm)\n",
        "\n",
        "# Plot the data points for the two classes\n",
        "plt.scatter(X[y == 0, 0], X[y == 0, 1], color='red', label=data.target_names[0], edgecolor='k', s=50)\n",
        "plt.scatter(X[y == 1, 0], X[y == 1, 1], color='blue', label=data.target_names[1], edgecolor='k', s=50)\n",
        "\n",
        "\n",
        "\n",
        "plt.xlim(x_min, x_max)\n",
        "plt.ylim(y_min, y_max)\n",
        "plt.xlabel(\"Mean Radius\")\n",
        "plt.ylabel(\"Mean Texture\")\n",
        "plt.title(\"KNN(k = 3) Decision Boundary with Colored Zones on Cancer Data\")\n",
        "plt.legend()\n",
        "plt.show()"
      ],
      "metadata": {
        "id": "hgfRGZj9o9fq"
      },
      "execution_count": null,
      "outputs": []
    }
  ]
}